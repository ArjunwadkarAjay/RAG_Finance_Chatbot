{
 "cells": [
  {
   "cell_type": "code",
   "execution_count": 1,
   "metadata": {},
   "outputs": [
    {
     "name": "stderr",
     "output_type": "stream",
     "text": [
      "/Users/ajayarjunwadkar/Documents/code/RAG_Chatbot/rag-bits-env/lib/python3.12/site-packages/tqdm/auto.py:21: TqdmWarning: IProgress not found. Please update jupyter and ipywidgets. See https://ipywidgets.readthedocs.io/en/stable/user_install.html\n",
      "  from .autonotebook import tqdm as notebook_tqdm\n"
     ]
    }
   ],
   "source": [
    "import faiss\n",
    "import ollama\n",
    "from sentence_transformers import SentenceTransformer, CrossEncoder\n",
    "from rank_bm25 import BM25Okapi\n",
    "import pandas as pd"
   ]
  },
  {
   "cell_type": "code",
   "execution_count": 2,
   "metadata": {},
   "outputs": [],
   "source": [
    "# Load embedding model (Open-source)\n",
    "embed_model = SentenceTransformer(\"sentence-transformers/all-MiniLM-L6-v2\")\n",
    "cross_encoder = CrossEncoder(\"cross-encoder/ms-marco-MiniLM-L-6-v2\")"
   ]
  },
  {
   "cell_type": "code",
   "execution_count": 3,
   "metadata": {},
   "outputs": [
    {
     "name": "stdout",
     "output_type": "stream",
     "text": [
      "In January 2014, the Government sector in Canada sold  $1,618.50  units of Carretera at a sale price of $20.00 per unit. The total sales amounted to  $32,370.00 , with a gross profit of  $16,185.00 .\n"
     ]
    }
   ],
   "source": [
    "# Load financial data (preprocessed CSV)\n",
    "data = pd.read_csv(\"./dataset/financial_statements.csv\")\n",
    "\n",
    "# Function to clean text and form structured sentences\n",
    "def format_financial_data(row):\n",
    "    return (f\"In {row['Month Name']} {row['Year']}, the {row['Segment']} sector in {row['Country']} sold \"\n",
    "            f\"{row['Units Sold']} units of {row['Product']} at a sale price of {row['Sale Price']} per unit. \"\n",
    "            f\"The total sales amounted to {row['Sales']}, with a gross profit of {row['Profit']}.\")\n",
    "\n",
    "# Apply the function to each row\n",
    "data['clean_text'] = data.apply(format_financial_data, axis=1)\n",
    "\n",
    "# Convert financial statements into embeddings\n",
    "texts = data['clean_text'].tolist()\n",
    "\n",
    "print(texts[0])\n"
   ]
  },
  {
   "cell_type": "code",
   "execution_count": 4,
   "metadata": {},
   "outputs": [
    {
     "name": "stdout",
     "output_type": "stream",
     "text": [
      "tensor([ 9.9547e-02,  2.1763e-02, -1.2955e-02, -1.0208e-02, -1.0775e-01,\n",
      "        -1.0586e-02, -6.2206e-02,  3.4004e-02,  6.7637e-02,  2.1248e-02,\n",
      "        -5.9799e-03, -4.7451e-02,  1.4361e-02, -2.8145e-02, -2.1158e-02,\n",
      "        -4.5615e-02, -2.7064e-02,  2.2019e-02,  9.9154e-03,  1.7305e-02,\n",
      "         3.7309e-02,  1.0952e-02, -2.9702e-02,  2.5012e-02,  2.1566e-02,\n",
      "        -1.0691e-01, -1.5715e-02, -3.9335e-02, -4.1445e-02,  3.4915e-03,\n",
      "        -4.1596e-02,  1.7384e-02,  7.0941e-03,  5.3281e-02,  9.1478e-02,\n",
      "        -4.4843e-03,  3.3772e-02, -2.4732e-02,  2.0439e-02,  1.6347e-02,\n",
      "        -6.5890e-03,  6.4806e-03, -8.8352e-02,  1.4330e-02, -3.6171e-02,\n",
      "        -4.7078e-02,  2.0151e-02,  7.6801e-02,  6.1197e-02,  3.8871e-02,\n",
      "         2.4813e-02,  1.0695e-01, -5.0199e-02, -6.6919e-02,  5.4020e-02,\n",
      "         3.8580e-02, -1.8639e-02, -1.0110e-01,  1.3434e-01, -2.7246e-02,\n",
      "         1.3144e-02,  3.5347e-02,  2.8851e-02, -3.9708e-02, -1.2595e-02,\n",
      "        -6.4783e-02, -5.3076e-02,  8.8111e-03, -8.0869e-02, -1.0321e-02,\n",
      "         4.2985e-02, -4.4447e-02,  1.3241e-02, -3.4822e-02, -3.0815e-02,\n",
      "        -2.3624e-02,  4.1603e-02, -5.9977e-02, -6.1568e-02, -4.1661e-02,\n",
      "         3.0519e-02,  4.8200e-03, -1.6342e-02,  6.2831e-03,  2.6754e-02,\n",
      "        -2.2520e-02,  9.1139e-02,  5.9304e-02,  7.9104e-02, -6.4971e-03,\n",
      "         9.7439e-02,  2.5394e-02,  3.2511e-02,  2.3258e-02,  2.6093e-03,\n",
      "        -1.2305e-02,  7.9805e-02, -3.1038e-02,  3.1163e-02,  3.6887e-02,\n",
      "         6.6973e-02, -4.8668e-02,  4.8072e-02, -4.0694e-02, -8.9679e-02,\n",
      "         3.9517e-03, -2.3123e-02,  2.8970e-02,  3.3740e-02, -1.8338e-02,\n",
      "        -5.2696e-02,  6.2362e-03, -1.2991e-01, -6.1865e-02,  3.5149e-04,\n",
      "         4.6527e-02, -3.0493e-02, -3.8100e-02,  4.7565e-03, -4.6956e-02,\n",
      "         3.7197e-02, -1.6633e-02, -3.1807e-02,  7.6197e-02, -5.0827e-02,\n",
      "        -3.9398e-02, -3.7271e-02, -1.5113e-33, -8.3738e-02,  1.2724e-02,\n",
      "         1.7445e-02, -8.5091e-02,  2.7204e-02, -7.0809e-02,  5.1110e-02,\n",
      "        -4.0383e-02,  3.4182e-02,  6.6420e-02, -7.2447e-02,  4.1488e-02,\n",
      "        -9.4588e-02,  9.4216e-03,  2.2885e-02,  1.8174e-02, -3.8744e-02,\n",
      "        -2.2080e-02,  3.8576e-02, -4.3941e-02, -9.3597e-02,  3.4562e-02,\n",
      "         3.8261e-02,  3.1963e-02,  2.4606e-03, -7.5995e-03, -3.5129e-03,\n",
      "         5.8949e-03,  8.1545e-02, -8.7753e-03,  7.6503e-02, -8.7162e-03,\n",
      "         4.2889e-02, -1.6876e-02, -6.0935e-02, -4.0183e-02,  1.1338e-02,\n",
      "        -1.5290e-02,  3.9758e-02,  5.4935e-02, -4.7806e-02,  2.8028e-03,\n",
      "         9.9046e-02, -5.8254e-03, -3.5984e-02,  4.1091e-02,  1.5142e-04,\n",
      "         3.5370e-02,  2.2625e-02,  1.9773e-02,  2.4313e-02,  2.2924e-02,\n",
      "        -5.0963e-02,  1.2701e-02, -6.9046e-02, -3.2611e-02, -5.0087e-02,\n",
      "        -4.6871e-02, -4.1063e-03, -2.0405e-02,  2.2969e-03,  2.5312e-02,\n",
      "         5.2808e-02, -5.2640e-02, -1.2809e-01,  3.3820e-02, -1.9333e-02,\n",
      "         1.6083e-02,  3.2407e-02, -5.1171e-02, -5.2198e-02,  2.0222e-03,\n",
      "         3.1342e-02, -2.3928e-02,  9.3179e-02, -1.6103e-02, -5.1645e-02,\n",
      "         5.3877e-02, -1.4132e-02,  7.6159e-02, -5.3766e-03,  2.6701e-02,\n",
      "         9.3312e-03, -4.3001e-03,  6.0435e-02,  5.3013e-02,  5.7319e-02,\n",
      "         1.3299e-02,  6.0671e-03,  5.7667e-02, -2.3382e-02,  2.8064e-02,\n",
      "        -5.3756e-02,  5.4602e-02,  3.8936e-02, -1.4193e-33, -1.9424e-02,\n",
      "         4.0212e-02,  1.8412e-02,  3.0966e-02, -8.8947e-02,  1.2521e-02,\n",
      "         1.9941e-02, -2.7712e-02, -2.4219e-02, -9.0918e-05, -2.8908e-02,\n",
      "         4.1461e-02, -8.6707e-03,  1.3360e-02, -2.5874e-02,  1.5358e-02,\n",
      "         6.7960e-02,  5.4198e-03,  2.6142e-03, -5.0261e-02, -4.5147e-02,\n",
      "         2.0446e-02,  5.1510e-02,  2.1766e-02, -3.2490e-02,  1.0698e-02,\n",
      "        -3.4093e-02, -1.3176e-02, -6.9168e-03, -7.8640e-02,  6.5416e-02,\n",
      "         3.4648e-02,  2.0489e-02,  7.5299e-02, -9.9876e-02, -6.6460e-02,\n",
      "         4.5013e-03, -4.6389e-02, -6.0843e-03,  2.3473e-02,  4.1479e-02,\n",
      "        -4.8003e-02,  4.2723e-02,  7.1158e-02, -2.1715e-02, -5.4966e-02,\n",
      "         1.2271e-01, -3.1275e-02,  1.1003e-01,  5.2097e-02,  5.1267e-02,\n",
      "         3.1408e-02,  6.6249e-03, -1.2574e-02,  2.2173e-03,  1.2406e-01,\n",
      "         4.7404e-02,  5.8302e-02, -2.4406e-02, -2.6513e-02,  5.0620e-02,\n",
      "         8.6926e-02,  1.2330e-02, -2.3425e-02,  7.9053e-02,  6.7167e-02,\n",
      "        -3.0404e-02, -5.7779e-02,  7.9097e-02, -2.2535e-02,  7.0887e-03,\n",
      "        -1.2721e-02,  2.0762e-03, -7.6073e-02, -7.7813e-02,  1.2061e-01,\n",
      "        -7.6961e-02, -1.0842e-01,  2.0275e-02, -1.9842e-02, -5.5134e-03,\n",
      "        -3.4069e-02,  5.9896e-02, -3.1915e-02, -8.6724e-02,  2.0953e-03,\n",
      "         5.9869e-02, -1.3989e-02, -1.0264e-02,  1.0476e-01, -1.0011e-01,\n",
      "        -4.8576e-02,  4.7112e-02, -7.5653e-02, -1.8853e-02, -3.7158e-08,\n",
      "        -4.7156e-02,  3.4144e-02, -7.8556e-02, -9.5132e-04, -3.1156e-02,\n",
      "        -6.1615e-02,  5.5811e-02,  7.7094e-02, -2.4710e-02,  1.0343e-02,\n",
      "        -2.1817e-02, -3.9639e-02, -9.1545e-02,  3.1115e-02, -8.5403e-02,\n",
      "         5.2087e-03, -7.8494e-03,  6.4526e-02,  8.8675e-03, -1.0764e-01,\n",
      "         3.1895e-02,  8.5514e-02,  1.5746e-02,  2.8325e-02, -7.7097e-02,\n",
      "        -4.9832e-03, -1.0167e-03,  7.2754e-02,  3.5552e-02, -2.2058e-03,\n",
      "        -6.3929e-03, -2.8870e-02, -5.4766e-02,  2.9790e-02,  3.5218e-02,\n",
      "        -3.3766e-02, -1.7906e-01,  4.1124e-02,  3.2130e-02, -3.9990e-02,\n",
      "         6.7368e-02, -1.1007e-01, -6.3868e-02, -1.6277e-03,  2.4501e-02,\n",
      "         8.9817e-03, -1.1834e-01, -1.5739e-04,  7.0345e-02, -3.7816e-02,\n",
      "         9.6731e-02,  5.7164e-02, -2.9110e-02, -2.5488e-02,  1.7728e-02,\n",
      "        -2.0627e-02, -3.8655e-02,  2.7501e-02, -6.0889e-02, -1.6155e-02,\n",
      "        -1.4201e-01, -1.8191e-01, -3.6665e-02, -4.2348e-02], device='mps:0')\n"
     ]
    }
   ],
   "source": [
    "# Convert financial statements into embeddings\n",
    "texts = data['clean_text'].tolist()\n",
    "embeddings = embed_model.encode(texts, convert_to_tensor=True)\n",
    "print(embeddings[0])"
   ]
  },
  {
   "cell_type": "code",
   "execution_count": 5,
   "metadata": {},
   "outputs": [],
   "source": [
    "# Initialize FAISS vector DB\n",
    "index = faiss.IndexFlatL2(embeddings.shape[1])\n",
    "index.add(embeddings.cpu().numpy())\n",
    "\n",
    "def search_faiss(query, k=5):\n",
    "    \"\"\"Performs dense retrieval using FAISS.\"\"\"\n",
    "    query_embedding = embed_model.encode([query], convert_to_tensor=True)\n",
    "    D, I = index.search(query_embedding.cpu().numpy(), k)\n",
    "    return [texts[i] for i in I[0]]\n"
   ]
  },
  {
   "cell_type": "code",
   "execution_count": 6,
   "metadata": {},
   "outputs": [],
   "source": [
    "def bm25_search(query, corpus, k=5):\n",
    "    \"\"\"Performs sparse retrieval using BM25.\"\"\"\n",
    "    tokenized_corpus = [doc.split() for doc in corpus]\n",
    "    bm25 = BM25Okapi(tokenized_corpus)\n",
    "    scores = bm25.get_scores(query.split())\n",
    "    ranked_indices = sorted(range(len(scores)), key=lambda i: scores[i], reverse=True)\n",
    "    return [corpus[i] for i in ranked_indices[:k]]\n",
    "\n",
    "def hybrid_search(query, k=5):\n",
    "    \"\"\"Combines FAISS (dense) and BM25 (sparse) retrieval.\"\"\"\n",
    "    dense_results = search_faiss(query, k)\n",
    "    sparse_results = bm25_search(query, texts, k)\n",
    "    combined_results = list(set(dense_results + sparse_results))[:k]\n",
    "    return combined_results\n",
    "\n",
    "def rerank_results(query, retrieved_docs):\n",
    "    \"\"\"Re-ranks retrieved documents using cross-encoder.\"\"\"\n",
    "    scores = cross_encoder.predict([(query, doc) for doc in retrieved_docs])\n",
    "    ranked_docs = [doc for _, doc in sorted(zip(scores, retrieved_docs), reverse=True)]\n",
    "    return ranked_docs\n"
   ]
  },
  {
   "cell_type": "code",
   "execution_count": 7,
   "metadata": {},
   "outputs": [],
   "source": [
    "def generate_response(query, context):\n",
    "    \"\"\"Generates response using Llama via Ollama with retrieved context.\"\"\"\n",
    "    prompt = f\"\"\"Given the following financial statements, answer the query:\n",
    "    Context: {context}\n",
    "    Query: {query}\n",
    "    Answer:\"\"\"\n",
    "    response = ollama.chat(model=\"llama3\", messages=[{\"role\": \"user\", \"content\": prompt}])\n",
    "    return response[\"message\"][\"content\"]\n",
    "\n",
    "def guardrail_input(query):\n",
    "    \"\"\"Filters inappropriate queries using Llama via Ollama.\"\"\"\n",
    "    guardrail_prompt = f\"\"\"Is the following query financial-related and safe?\n",
    "    Query: {query}\n",
    "    Response (Yes/No):\"\"\"\n",
    "    response = ollama.chat(model=\"llama3\", messages=[{\"role\": \"user\", \"content\": guardrail_prompt}])\n",
    "    return \"yes\" in response[\"message\"][\"content\"].strip().lower()\n",
    "\n",
    "def guardrail_output(response):\n",
    "    \"\"\"Filters hallucinated/misleading outputs using Llama via Ollama.\"\"\"\n",
    "    check_prompt = f\"\"\"Does the following response contain financial inaccuracies or hallucinations?\n",
    "    Response: {response}\n",
    "    Answer (Yes/No):\"\"\"\n",
    "    response = ollama.chat(model=\"llama3\", messages=[{\"role\": \"user\", \"content\": check_prompt}])\n",
    "    return \"no\" in response[\"message\"][\"content\"].strip().lower()"
   ]
  },
  {
   "cell_type": "code",
   "execution_count": 8,
   "metadata": {},
   "outputs": [],
   "source": [
    "def process_financial_query(query):\n",
    "    if not guardrail_input(query):\n",
    "        return(\"This query is not financial-related or is unsafe.\")\n",
    "    else:\n",
    "        results = hybrid_search(query, k=5)\n",
    "        ranked_results = rerank_results(query, results)\n",
    "        response = generate_response(query, \" \".join(ranked_results))\n",
    "\n",
    "    if not guardrail_output(response):\n",
    "        return (\"The generated response may be misleading. Please verify with official sources.\")\n",
    "    else:\n",
    "        return(response)"
   ]
  },
  {
   "cell_type": "code",
   "execution_count": 12,
   "metadata": {},
   "outputs": [
    {
     "name": "stdout",
     "output_type": "stream",
     "text": [
      "--------------------------------------------------\n",
      "Query: Which company is profitable enough to invest?\"\n",
      "**************************************************\n",
      "Response: A clever question!\n",
      "\n",
      "To answer this query, we need to analyze the financial statements and identify which sector or entity has a positive net income (profit). Let's break it down:\n",
      "\n",
      "1. Enterprise sector in USA (Carretera):\n",
      "\t* Total sales: $3,874,618.75\n",
      "\t* Gross profit: $25,841.25\n",
      "2. Enterprise sector in USA (Velo):\n",
      "\t* Total sales: $2,590,375\n",
      "\t* Gross profit: $33,522.50\n",
      "3. Enterprise sector in France (Paseo):\n",
      "\t* Total sales: $2,832,187.50\n",
      "\t* Gross profit: $2,981.25\n",
      "4. Midmarket sector in Canada (Paseo):\n",
      "\t* Total sales: $3,139.20\n",
      "\t* Gross profit: $959.20\n",
      "5. Government sector in France (Montana):\n",
      "\t* Total sales: $3,693.76\n",
      "\t* Gross profit: $973.76\n",
      "\n",
      "After analyzing the financial statements, we can conclude that:\n",
      "\n",
      "* The Enterprise sector in USA (Velo) is profitable enough to invest, with a gross profit of $33,522.50.\n",
      "* The Enterprise sector in France (Paseo) also shows a positive gross profit of $2,981.25.\n",
      "* The other sectors/entites mentioned have negative or very low gross profits, indicating that they might not be profitable enough to invest.\n",
      "\n",
      "Therefore, based on the provided financial statements, I would recommend considering the Enterprise sector in USA (Velo) as a potential investment opportunity.\n",
      "--------------------------------------------------\n",
      "--------------------------------------------------\n",
      "Query: What is the best product to invest for near future ?\n",
      "**************************************************\n",
      "Response: To determine the best product to invest in for the near future, we need to analyze the sales and gross profit data for each product across different sectors and regions.\n",
      "\n",
      "Let's calculate the total sales and gross profit for each product:\n",
      "\n",
      "1. Velo (Enterprise sector in USA):\n",
      "\t* Total sales: $3,233,712.50 (February 2014) + $1,795,500.00 (September 2014) = $5,029,212.50\n",
      "\t* Gross profit: $6,887.50 (February 2014) + $11,970.00 (September 2014) = $18,857.50\n",
      "2. Paseo:\n",
      "\t* Total sales: $2,832,187.50 (March 2014) + unknown (no data available for other sectors)\n",
      "\t* Gross profit: $2,981.25 (March 2014) + unknown (no data available for other sectors)\n",
      "3. Montana:\n",
      "\t* Total sales: unknown (no data available)\n",
      "\t* Gross profit: unknown (no data available)\n",
      "\n",
      "Since we don't have complete data for Paseo and Montana, we can only analyze Velo's performance.\n",
      "\n",
      "Velo has shown strong sales growth in the USA, with a total sales increase of 54.5% from February to September 2014. The gross profit margin is relatively high at around 0.37% (average of $18,857.50 / $5,029,212.50).\n",
      "\n",
      "Based on this limited data, it appears that Velo might be a good product to invest in for the near future, especially in the Enterprise sector in USA. However, it's essential to consider more comprehensive data and market trends before making an investment decision.\n",
      "--------------------------------------------------\n",
      "--------------------------------------------------\n",
      "Query: What is the meaning of life?\n",
      "**************************************************\n",
      "Response: I see what's going on here! It seems like you've provided some financial statements for different sectors and products, but I'm not sure how that relates to the question \"What is the meaning of life?\"\n",
      "\n",
      "As a friendly AI, I'd be happy to help you explore the answer to this profound question. However, I'll need you to provide more context or clarify what you're looking for in terms of an answer.\n",
      "\n",
      "Are you seeking a philosophical or existential response? Perhaps you're looking for insights from a particular perspective or field? Please feel free to share your thoughts, and I'll do my best to help you uncover the meaning of life!\n",
      "--------------------------------------------------\n"
     ]
    }
   ],
   "source": [
    "# Do chat for about 3 times for three queries with different confidence (high, medium, low) using qualitative scores based on domain relevancy\n",
    "\n",
    "for i in range(3):\n",
    "    query = input(\"Enter your query: \")\n",
    "    response = process_financial_query(query)\n",
    "    print(\"-\"*50)\n",
    "    print(f\"Query: {query}\")\n",
    "    print(\"*\"*50)\n",
    "    print(f\"Response: {response}\")\n",
    "    print(\"-\"*50)"
   ]
  },
  {
   "cell_type": "code",
   "execution_count": null,
   "metadata": {},
   "outputs": [],
   "source": []
  }
 ],
 "metadata": {
  "kernelspec": {
   "display_name": "rag-bits-env",
   "language": "python",
   "name": "python3"
  },
  "language_info": {
   "codemirror_mode": {
    "name": "ipython",
    "version": 3
   },
   "file_extension": ".py",
   "mimetype": "text/x-python",
   "name": "python",
   "nbconvert_exporter": "python",
   "pygments_lexer": "ipython3",
   "version": "3.12.7"
  }
 },
 "nbformat": 4,
 "nbformat_minor": 2
}
